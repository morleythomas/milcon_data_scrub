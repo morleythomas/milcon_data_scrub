{
 "cells": [
  {
   "cell_type": "markdown",
   "id": "7a5b56ce",
   "metadata": {},
   "source": [
    "# "
   ]
  },
  {
   "cell_type": "markdown",
   "id": "34d5eb0d",
   "metadata": {},
   "source": [
    "# Analysis 3\n",
    "\n",
    "TODO: explore relationship between submission date and data as of date\n",
    "\n",
    "TODO: Check the largest difference between fiscal year and solicitation date\n",
    "\n",
    "- why? This will shed light on whether the fiscal years are relevent. We hope to see they are all in the same year as the solicitation date - if not, it would be weird\n",
    "\n",
    "TODO: investigate the sparsity of prime contract numbers\n",
    "\n",
    "- why? We want to know the feasability of using these as unique identifiers - even if not all contracts have this data, the ones that do can be seperated out for projects with multiple contracts\n",
    "\n",
    "- ie, for all project > 2015, do we have many data? \n",
    "\n",
    "- Are there certain years that contain this information for all projects, but not others?\n",
    "\n",
    "TODO: Look at unique values for country code and country and state columns\n",
    "\n",
    "- why? We want to see if we have combined multiple values into a single cell at any stage\n",
    "\n",
    "TODO: Find out how parent project numbers numbers relate to the standard 'project' number\n",
    "\n",
    "- Do these numbers correspond to a project number?\n",
    "\n",
    "- If so, do these projects have their own entries?\n",
    "\n",
    "- Do they correspond to their own project number at all?\n",
    "\n",
    "TODO: Find out how these numbers relate to the standard 'project' number\n",
    "\n",
    "- Do these numbers correspond to a project number?\n",
    "\n",
    "- If so, do these projects have their own entries?\n",
    "\n",
    "- Do they correspond to their own project number at all?\n"
   ]
  }
 ],
 "metadata": {
  "kernelspec": {
   "display_name": "Python 3 (ipykernel)",
   "language": "python",
   "name": "python3"
  },
  "language_info": {
   "codemirror_mode": {
    "name": "ipython",
    "version": 3
   },
   "file_extension": ".py",
   "mimetype": "text/x-python",
   "name": "python",
   "nbconvert_exporter": "python",
   "pygments_lexer": "ipython3",
   "version": "3.8.3"
  }
 },
 "nbformat": 4,
 "nbformat_minor": 5
}
