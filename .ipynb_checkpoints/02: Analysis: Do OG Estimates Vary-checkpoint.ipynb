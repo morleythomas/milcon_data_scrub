{
 "cells": [
  {
   "cell_type": "markdown",
   "id": "4acf8874",
   "metadata": {},
   "source": [
    "# Analysis of MilCon Dataset"
   ]
  },
  {
   "cell_type": "code",
   "execution_count": 62,
   "id": "128f15f7",
   "metadata": {},
   "outputs": [
    {
     "name": "stdout",
     "output_type": "stream",
     "text": [
      "\u001b[33mWARNING: Skipping /usr/local/lib/python3.11/site-packages/PyQt5_sip-12.11.0-py3.11.egg-info due to invalid metadata entry 'name'\u001b[0m\u001b[33m\n",
      "\u001b[0m\u001b[33mWARNING: Skipping /usr/local/lib/python3.11/site-packages/PyQt5-5.15.7.dist-info due to invalid metadata entry 'name'\u001b[0m\u001b[33m\n",
      "\u001b[0m\u001b[33mWARNING: Skipping /usr/local/lib/python3.11/site-packages/PyQtNetworkAuth-5.15.5.dist-info due to invalid metadata entry 'name'\u001b[0m\u001b[33m\n",
      "\u001b[0m\u001b[33mWARNING: Skipping /usr/local/lib/python3.11/site-packages/PyQt3D-5.15.5.dist-info due to invalid metadata entry 'name'\u001b[0m\u001b[33m\n",
      "\u001b[0m\u001b[33mWARNING: Skipping /usr/local/lib/python3.11/site-packages/PyQtChart-5.15.6.dist-info due to invalid metadata entry 'name'\u001b[0m\u001b[33m\n",
      "\u001b[0m\u001b[33mWARNING: Skipping /usr/local/lib/python3.11/site-packages/PyQtWebEngine-5.15.6.dist-info due to invalid metadata entry 'name'\u001b[0m\u001b[33m\n",
      "\u001b[0m\u001b[33mWARNING: Skipping /usr/local/lib/python3.11/site-packages/PyQt5_sip-12.11.0-py3.11.egg-info due to invalid metadata entry 'name'\u001b[0m\u001b[33m\n",
      "\u001b[0m\u001b[33mWARNING: Skipping /usr/local/lib/python3.11/site-packages/PyQt5-5.15.7.dist-info due to invalid metadata entry 'name'\u001b[0m\u001b[33m\n",
      "\u001b[0m\u001b[33mWARNING: Skipping /usr/local/lib/python3.11/site-packages/PyQtNetworkAuth-5.15.5.dist-info due to invalid metadata entry 'name'\u001b[0m\u001b[33m\n",
      "\u001b[0m\u001b[33mWARNING: Skipping /usr/local/lib/python3.11/site-packages/PyQt3D-5.15.5.dist-info due to invalid metadata entry 'name'\u001b[0m\u001b[33m\n",
      "\u001b[0m\u001b[33mWARNING: Skipping /usr/local/lib/python3.11/site-packages/PyQtChart-5.15.6.dist-info due to invalid metadata entry 'name'\u001b[0m\u001b[33m\n",
      "\u001b[0m\u001b[33mWARNING: Skipping /usr/local/lib/python3.11/site-packages/PyQtWebEngine-5.15.6.dist-info due to invalid metadata entry 'name'\u001b[0m\u001b[33m\n",
      "\u001b[0m\u001b[33mWARNING: Skipping /usr/local/lib/python3.11/site-packages/PyQtPurchasing-5.15.5.dist-info due to invalid metadata entry 'name'\u001b[0m\u001b[33m\n",
      "\u001b[0m\u001b[33mWARNING: Skipping /usr/local/lib/python3.11/site-packages/PyQtDataVisualization-5.15.5.dist-info due to invalid metadata entry 'name'\u001b[0m\u001b[33m\n",
      "\u001b[0m\u001b[33mWARNING: Skipping /usr/local/lib/python3.11/site-packages/PyQt5_sip-12.11.0-py3.11.egg-info due to invalid metadata entry 'name'\u001b[0m\u001b[33m\n",
      "\u001b[0m\u001b[33mWARNING: Skipping /usr/local/lib/python3.11/site-packages/PyQt5-5.15.7.dist-info due to invalid metadata entry 'name'\u001b[0m\u001b[33m\n",
      "\u001b[0m\u001b[33mWARNING: Skipping /usr/local/lib/python3.11/site-packages/PyQtNetworkAuth-5.15.5.dist-info due to invalid metadata entry 'name'\u001b[0m\u001b[33m\n",
      "\u001b[0m\u001b[33mWARNING: Skipping /usr/local/lib/python3.11/site-packages/PyQt3D-5.15.5.dist-info due to invalid metadata entry 'name'\u001b[0m\u001b[33m\n",
      "\u001b[0m\u001b[33mWARNING: Skipping /usr/local/lib/python3.11/site-packages/PyQtChart-5.15.6.dist-info due to invalid metadata entry 'name'\u001b[0m\u001b[33m\n",
      "\u001b[0m\u001b[33mWARNING: Skipping /usr/local/lib/python3.11/site-packages/PyQtWebEngine-5.15.6.dist-info due to invalid metadata entry 'name'\u001b[0m\u001b[33m\n",
      "\u001b[0m\u001b[33mWARNING: Skipping /usr/local/lib/python3.11/site-packages/PyQtPurchasing-5.15.5.dist-info due to invalid metadata entry 'name'\u001b[0m\u001b[33m\n",
      "\u001b[0m\u001b[33mWARNING: Skipping /usr/local/lib/python3.11/site-packages/PyQtDataVisualization-5.15.5.dist-info due to invalid metadata entry 'name'\u001b[0m\u001b[33m\n",
      "\u001b[0m\u001b[33mWARNING: Running pip as the 'root' user can result in broken permissions and conflicting behaviour with the system package manager. It is recommended to use a virtual environment instead: https://pip.pypa.io/warnings/venv\u001b[0m\u001b[33m\n",
      "\u001b[0mNote: you may need to restart the kernel to use updated packages.\n"
     ]
    }
   ],
   "source": [
    "# Imports\n",
    "\n",
    "%pip install openpyxl --quiet --disable-pip-version-check\n",
    "\n",
    "import glob\n",
    "import math\n",
    "\n",
    "import pandas as pd\n",
    "\n",
    "import numpy as np\n",
    "import openpyxl as xl\n"
   ]
  },
  {
   "cell_type": "code",
   "execution_count": 63,
   "id": "fd437f40",
   "metadata": {},
   "outputs": [
    {
     "name": "stdout",
     "output_type": "stream",
     "text": [
      "2013\n",
      "['Projects', 'Design']\n",
      "['Projects', 'Planning and Design', 'Minor Construction']\n",
      "['Projects', 'Planning and Design', 'Minor Construction']\n",
      "['Projects', 'P&D', 'Sheet1']\n",
      "['Projects', 'Planning and Design', 'Minor Construction']\n",
      "['Projects', 'Planning and Design', 'Minor Construction']\n",
      "['Projects', 'Planning and Design', 'Minor Construction']\n",
      "['Projects', 'Planning and Design', 'Minor Construction']\n",
      "\n",
      "\n",
      "\n",
      "2014 \n",
      "['Projects', 'Planning and Design', 'Minor Construction']\n",
      "['Projects', 'Planning and Design', 'Minor Construction']\n"
     ]
    },
    {
     "name": "stderr",
     "output_type": "stream",
     "text": [
      "/usr/local/lib/python3.11/site-packages/openpyxl/worksheet/_reader.py:329: UserWarning: Data Validation extension is not supported and will be removed\n",
      "  warn(msg)\n"
     ]
    },
    {
     "name": "stdout",
     "output_type": "stream",
     "text": [
      "['PROJECTS', 'DETAILED EXPENDITURES']\n",
      "['Projects', 'Planning and Design', 'Minor Construction']\n",
      "['Projects', 'Planning and Design', 'Minor Construction']\n",
      "['Projects', 'Planning and Design', 'Minor Const & Family Housing']\n",
      "['Projects', 'Planning and Design', 'Minor Construction']\n",
      "['Projects', 'Planning and Design', 'Minor Const & Family Housing']\n",
      "['PROJECTS', 'DETAILED EXPENDITURES']\n",
      "['PROJECTS', 'DETAILED EXPENDITURES']\n",
      "['Projects', 'Planning and Design', 'Minor Const & Family Housing']\n",
      "['Projects', 'Planning and Design', 'Minor Construction']\n",
      "\n",
      "\n",
      "\n",
      "2015\n",
      "['PROJECTS', 'DETAILED EXPENDITURES']\n",
      "['PROJECTS', 'CONTRACTS', 'EXPENDITURES']\n",
      "['PROJECTS', 'CONTRACTS', 'EXPENDITURES']\n",
      "['PROJECTS', 'CONTRACTS', 'EXPENDITURES']\n",
      "['PROJECTS', 'DETAILED EXPENDITURES']\n",
      "['PROJECTS', 'CONTRACTS', 'EXPENDITURES']\n",
      "['PROJECTS', 'DETAILED EXPENDITURES']\n",
      "['PROJECTS', 'DETAILED EXPENDITURES']\n",
      "['PROJECTS', 'DETAILED EXPENDITURES']\n",
      "['PROJECTS', 'DETAILED EXPENDITURES']\n",
      "['PROJECTS', 'CONTRACTS', 'EXPENDITURES']\n",
      "\n",
      "\n",
      "\n",
      "2016\n",
      "['PROJECTS', 'CONTRACTS', 'EXPENDITURES']\n",
      "['PROJECTS', 'CONTRACTS', 'EXPENDITURES']\n",
      "['PROJECTS', 'CONTRACTS', 'EXPENDITURES']\n",
      "['PROJECTS', 'CONTRACTS', 'EXPENDITURES']\n",
      "['PROJECTS', 'CONTRACTS', 'EXPENDITURES']\n",
      "['PROJECTS', 'CONTRACTS', 'EXPENDITURES']\n",
      "['PROJECTS', 'CONTRACTS', 'EXPENDITURES']\n",
      "['PROJECTS', 'CONTRACTS', 'EXPENDITURES']\n",
      "['PROJECTS', 'CONTRACTS', 'EXPENDITURES']\n",
      "['PROJECTS', 'CONTRACTS', 'EXPENDITURES']\n",
      "['PROJECTS', 'CONTRACTS', 'EXPENDITURES']\n",
      "['PROJECTS', 'CONTRACTS', 'EXPENDITURES']\n",
      "\n",
      "\n",
      "\n",
      "2017\n",
      "['PROJECTS', 'CONTRACTS', 'EXPENDITURES']\n",
      "['PROJECTS', 'CONTRACTS', 'EXPENDITURES']\n",
      "['PROJECTS', 'CONTRACTS', 'EXPENDITURES']\n",
      "['PROJECTS', 'CONTRACTS', 'EXPENDITURES']\n",
      "['PROJECTS', 'CONTRACTS', 'EXPENDITURES']\n",
      "['PROJECTS', 'CONTRACTS', 'EXPENDITURES']\n",
      "['PROJECTS', 'CONTRACTS', 'EXPENDITURES']\n",
      "['PROJECTS', 'CONTRACTS', 'EXPENDITURES']\n",
      "['PROJECTS', 'CONTRACTS', 'EXPENDITURES']\n",
      "['PROJECTS', 'CONTRACTS', 'EXPENDITURES']\n",
      "['PROJECTS', 'CONTRACTS', 'EXPENDITURES']\n",
      "['PROJECTS', 'CONTRACTS', 'EXPENDITURES']\n",
      "\n",
      "\n",
      "\n",
      "2018\n",
      "['PROJECTS', 'CONTRACTS', 'EXPENDITURES']\n",
      "['PROJECTS', 'CONTRACTS', 'EXPENDITURES']\n",
      "['PROJECTS', 'CONTRACTS', 'EXPENDITURES']\n",
      "['PROJECTS', 'CONTRACTS', 'EXPENDITURES']\n",
      "['PROJECTS', 'CONTRACTS', 'EXPENDITURES']\n",
      "['PROJECTS', 'CONTRACTS', 'EXPENDITURES']\n",
      "['PROJECTS', 'CONTRACTS', 'EXPENDITURES']\n",
      "['PROJECTS', 'CONTRACTS', 'EXPENDITURES']\n",
      "['PROJECTS', 'CONTRACTS', 'EXPENDITURES']\n",
      "['PROJECTS', 'CONTRACTS', 'EXPENDITURES']\n",
      "['PROJECTS', 'CONTRACTS', 'EXPENDITURES']\n",
      "['PROJECTS', 'CONTRACTS', 'EXPENDITURES']\n",
      "\n",
      "\n",
      "\n",
      "2019\n",
      "['PROJECTS', 'CONTRACTS', 'EXPENDITURES']\n",
      "['PROJECTS', 'CONTRACTS', 'EXPENDITURES']\n",
      "['PROJECTS', 'CONTRACTS', 'EXPENDITURES']\n",
      "['PROJECTS', 'CONTRACTS', 'EXPENDITURES']\n",
      "\n",
      "\n",
      "\n",
      "2020\n",
      "['PROJECTS', 'CONTRACTS', 'EXPENDITURES']\n",
      "['PROJECTS', 'CONTRACTS', 'EXPENDITURES']\n",
      "['PROJECTS', 'CONTRACTS', 'EXPENDITURES']\n",
      "['PROJECTS', 'CONTRACTS', 'EXPENDITURES']\n",
      "['PROJECTS', 'CONTRACTS', 'EXPENDITURES']\n",
      "['PROJECTS', 'CONTRACTS', 'EXPENDITURES']\n",
      "['PROJECTS', 'CONTRACTS', 'EXPENDITURES']\n",
      "['PROJECTS', 'CONTRACTS', 'EXPENDITURES']\n",
      "['PROJECTS', 'CONTRACTS', 'EXPENDITURES']\n",
      "['PROJECTS', 'CONTRACTS', 'EXPENDITURES']\n",
      "['PROJECTS', 'CONTRACTS', 'EXPENDITURES']\n",
      "['PROJECTS', 'CONTRACTS', 'EXPENDITURES']\n",
      "\n",
      "\n",
      "\n",
      "2021\n",
      "['PROJECTS', 'CONTRACTS', 'EXPENDITURES']\n",
      "['PROJECTS', 'CONTRACTS', 'EXPENDITURES']\n",
      "['PROJECTS', 'CONTRACTS', 'EXPENDITURES']\n",
      "['PROJECTS', 'CONTRACTS', 'EXPENDITURES']\n",
      "['PROJECTS', 'CONTRACTS', 'EXPENDITURES']\n",
      "['PROJECTS', 'CONTRACTS', 'EXPENDITURES']\n",
      "['PROJECTS', 'CONTRACTS', 'EXPENDITURES']\n",
      "['PROJECTS', 'CONTRACTS', 'EXPENDITURES']\n",
      "['PROJECTS', 'CONTRACTS', 'EXPENDITURES']\n",
      "['PROJECTS', 'CONTRACTS', 'EXPENDITURES']\n",
      "['PROJECTS', 'CONTRACTS', 'EXPENDITURES']\n",
      "['PROJECTS', 'CONTRACTS', 'EXPENDITURES']\n",
      "\n",
      "\n",
      "\n",
      "2022\n",
      "['PROJECTS', 'CONTRACTS', 'EXPENDITURES']\n",
      "['PROJECTS', 'CONTRACTS', 'EXPENDITURES']\n",
      "['PROJECTS', 'CONTRACTS', 'EXPENDITURES']\n",
      "['PROJECTS', 'CONTRACTS', 'EXPENDITURES']\n",
      "['PROJECTS', 'CONTRACTS', 'EXPENDITURES']\n",
      "['PROJECTS', 'CONTRACTS', 'EXPENDITURES']\n",
      "['PROJECTS', 'CONTRACTS', 'EXPENDITURES']\n",
      "['PROJECTS', 'CONTRACTS', 'EXPENDITURES']\n",
      "['PROJECTS', 'CONTRACTS', 'EXPENDITURES']\n",
      "['PROJECTS', 'CONTRACTS', 'EXPENDITURES']\n",
      "['PROJECTS', 'CONTRACTS', 'EXPENDITURES']\n",
      "['PROJECTS', 'CONTRACTS', 'EXPENDITURES']\n",
      "\n",
      "\n",
      "\n",
      "2023\n",
      "['PROJECTS', 'CONTRACTS', 'EXPENDITURES']\n",
      "['PROJECTS', 'CONTRACTS', 'EXPENDITURES']\n",
      "['PROJECTS', 'CONTRACTS', 'EXPENDITURES']\n",
      "['PROJECTS', 'CONTRACTS', 'EXPENDITURES']\n",
      "['PROJECTS', 'CONTRACTS', 'EXPENDITURES']\n",
      "['PROJECTS', 'CONTRACTS', 'EXPENDITURES']\n",
      "\n",
      "\n",
      "\n"
     ]
    }
   ],
   "source": [
    "# Examine sheet names in the datasets\n",
    "\n",
    "for yr in [2013, \"2014 \"] + list(range(2015, 2024)):\n",
    "    print(yr)\n",
    "    for f in glob.glob(f\"../data/*{yr}.xlsx\"):\n",
    "        wb = xl.load_workbook(f)\n",
    "        print(wb.sheetnames)\n",
    "    print(\"\\n\\n\")\n"
   ]
  },
  {
   "cell_type": "code",
   "execution_count": 64,
   "id": "b768c475",
   "metadata": {
    "scrolled": true
   },
   "outputs": [
    {
     "name": "stderr",
     "output_type": "stream",
     "text": [
      "/usr/local/lib/python3.11/site-packages/openpyxl/worksheet/_reader.py:329: UserWarning: Data Validation extension is not supported and will be removed\n",
      "  warn(msg)\n",
      "/usr/local/lib/python3.11/site-packages/openpyxl/worksheet/_reader.py:329: UserWarning: Data Validation extension is not supported and will be removed\n",
      "  warn(msg)\n",
      "/usr/local/lib/python3.11/site-packages/openpyxl/worksheet/_reader.py:329: UserWarning: Data Validation extension is not supported and will be removed\n",
      "  warn(msg)\n",
      "/usr/local/lib/python3.11/site-packages/openpyxl/worksheet/_reader.py:329: UserWarning: Data Validation extension is not supported and will be removed\n",
      "  warn(msg)\n",
      "/usr/local/lib/python3.11/site-packages/openpyxl/worksheet/_reader.py:329: UserWarning: Data Validation extension is not supported and will be removed\n",
      "  warn(msg)\n",
      "/usr/local/lib/python3.11/site-packages/openpyxl/worksheet/_reader.py:329: UserWarning: Data Validation extension is not supported and will be removed\n",
      "  warn(msg)\n",
      "/usr/local/lib/python3.11/site-packages/openpyxl/worksheet/_reader.py:329: UserWarning: Data Validation extension is not supported and will be removed\n",
      "  warn(msg)\n",
      "/usr/local/lib/python3.11/site-packages/openpyxl/worksheet/_reader.py:329: UserWarning: Data Validation extension is not supported and will be removed\n",
      "  warn(msg)\n",
      "/usr/local/lib/python3.11/site-packages/openpyxl/worksheet/_reader.py:329: UserWarning: Data Validation extension is not supported and will be removed\n",
      "  warn(msg)\n"
     ]
    }
   ],
   "source": [
    "# Import data into dataframes\n",
    "\n",
    "datasets_by_year = []\n",
    "\n",
    "for yr in [2013, \"2014 \"] + list(range(2015, 2024)):\n",
    "    \n",
    "    month = 0\n",
    "    \n",
    "    for f in glob.glob(f\"../data/*{yr}.xlsx\"):\n",
    "        wb = xl.load_workbook(f)\n",
    "        \n",
    "        if \"CONTRACTS\" not in wb.sheetnames:\n",
    "            datasets_by_year.append(pd.read_excel(f, dtype='object'))\n",
    "        else:\n",
    "            datasets_by_year.append(pd.read_excel(f, dtype='object', sheet_name=\"CONTRACTS\"))\n",
    "            \n",
    "        datasets_by_year[-1]['archive_year'] = yr\n",
    "        datasets_by_year[-1]['archive_month'] = month\n",
    "        \n",
    "        month += 1"
   ]
  },
  {
   "cell_type": "code",
   "execution_count": 65,
   "id": "f5197bf0",
   "metadata": {},
   "outputs": [],
   "source": [
    "# Create combined dataframe:\n",
    "\n",
    "all_df = pd.concat(datasets_by_year).reset_index(drop=True)"
   ]
  },
  {
   "cell_type": "markdown",
   "id": "76970667",
   "metadata": {},
   "source": [
    "# Cleaning the data"
   ]
  },
  {
   "cell_type": "markdown",
   "id": "93046aae",
   "metadata": {},
   "source": [
    "## Homegenise columns\n",
    "\n",
    "The titles of the column headers change throughtout the datasheets, so they appear as seperate columns in the concatenated dataframe. This means we need to collate this information into a single column for analysis.\n",
    "\n",
    "In addition to this, some cleaning needs to be done on the data. For example, the costs sometimes contain character artefacts - ie, ',' or '\\n' - which need to be removed in order to convert them into numbers."
   ]
  },
  {
   "cell_type": "code",
   "execution_count": 66,
   "id": "ded3d3ea",
   "metadata": {
    "scrolled": true
   },
   "outputs": [
    {
     "data": {
      "text/plain": [
       "['Submittal Date',\n",
       " 'Fiscal Year',\n",
       " 'Component',\n",
       " 'Project Type',\n",
       " 'State or Country',\n",
       " 'Unnamed: 5',\n",
       " 'Installation',\n",
       " 'Project Number',\n",
       " 'Project Title',\n",
       " 'Solicitation/ Advertise Date',\n",
       " 'Award Date',\n",
       " 'Contract Recipient',\n",
       " 'Original Contract Amount ($000)',\n",
       " 'Current Contract Obligation ($000)',\n",
       " 'Start Date',\n",
       " 'Occupancy Date',\n",
       " 'Original Completion Date',\n",
       " 'Current Completion Date',\n",
       " ' % Complete',\n",
       " 'Funds Diverted ($000) (if applicable)',\n",
       " 'Remarks',\n",
       " 'archive_year',\n",
       " 'archive_month',\n",
       " 'Data As Of Date',\n",
       " 'Submission Date',\n",
       " 'Project type',\n",
       " 'State or country',\n",
       " 'State or country title',\n",
       " 'Project number',\n",
       " 'Project title',\n",
       " 'Solicitation/ advertise date',\n",
       " 'Award date',\n",
       " 'Contract recipient',\n",
       " 'Original contract amount ($000)',\n",
       " 'Current contract obligation ($000)',\n",
       " 'Start date',\n",
       " 'Occupancy date',\n",
       " 'Original completion date',\n",
       " 'Current completion date',\n",
       " '% complete',\n",
       " 'Funds diverted ($000) (if applicable)',\n",
       " 'Data as of Date',\n",
       " 'State (2-Alpha)/ Country (3-Alpha)',\n",
       " 'State or Country Title',\n",
       " 'Percent Complete',\n",
       " 'Funds Diverted ($000) \\n(if applicable)',\n",
       " 'Recipient Project    \\n(if applicable)',\n",
       " 'Recipient Installation \\n(if applicable)',\n",
       " 'Notes/Remarks',\n",
       " 'Submittal date',\n",
       " 'Recipient Project    (If applicable)',\n",
       " 'Recipient Installation (If applicable)',\n",
       " '% Complete',\n",
       " 'Funds Diverted ($000)\\n if applicable',\n",
       " 'Construction Project Type',\n",
       " 'State ',\n",
       " 'Country',\n",
       " 'Solicitation Date',\n",
       " 'Prime Contract Recipient\\n(Company Name)',\n",
       " 'Prime Contract Number ',\n",
       " 'Placed-In-Service Date',\n",
       " 'Diverted Funds Amount\\n($000)',\n",
       " 'Diverted Funds Recipient Project    \\n',\n",
       " 'State (2-Alpha) / \\nCountry (3-Alpha)',\n",
       " 'Parent Project Number \\n[Initial Appropriation]',\n",
       " 'Diverted Funds Recipient Project',\n",
       " 'Contract Data as of Date',\n",
       " 'Project Fiscal Year',\n",
       " 'Project Sponsor Component Name',\n",
       " 'Sub-Project Number',\n",
       " 'Contract Solicitation Date',\n",
       " 'Contract Award Date',\n",
       " 'Prime Contract Recipient Name',\n",
       " 'Original Contract Amount',\n",
       " 'Current Contract Obligation Amount',\n",
       " ' Original Contract Completion Date',\n",
       " ' Current Contract Completion Date',\n",
       " 'Contract Remarks',\n",
       " 'Original Contract Amount\\n($000)',\n",
       " 'Placed-In-Service\\nDate',\n",
       " 'Current Contract Obligation\\n($000)',\n",
       " 'Unnamed: 23']"
      ]
     },
     "execution_count": 66,
     "metadata": {},
     "output_type": "execute_result"
    }
   ],
   "source": [
    "# Examine the columns we are interested in - it may be that they are not consistent across data entries\n",
    "\n",
    "list(all_df.columns)"
   ]
  },
  {
   "cell_type": "code",
   "execution_count": 67,
   "id": "d192b87f",
   "metadata": {},
   "outputs": [],
   "source": [
    "# We must homegenise the project numbers into one collumn\n",
    "'Project Number'\n",
    "'Project number'\n",
    "\n",
    "all_df['combined_proj_nums'] = all_df[[\n",
    "    'Project Number',\n",
    "    'Project number'\n",
    "]].apply(\n",
    "    lambda x: ''.join(x.dropna().astype(str)), \n",
    "    axis=1\n",
    ")\n",
    "\n",
    "# all_df['combined_proj_nums'] = all_df['combined_proj_nums'].apply(\n",
    "#     lambda x: None if x==np.nan else x\n",
    "# )"
   ]
  },
  {
   "cell_type": "code",
   "execution_count": 68,
   "id": "de6dc245",
   "metadata": {},
   "outputs": [],
   "source": [
    "# The project titles must be homegenised into one collumn\n",
    "'Project Title'\n",
    "'Project title'\n",
    "\n",
    "all_df['combined_titles'] = all_df[[\n",
    "    'Project Title',\n",
    "    'Project title'\n",
    "]].apply(\n",
    "    lambda x: ''.join(x.dropna().astype(str)), \n",
    "    axis=1\n",
    ")\n",
    "\n",
    "all_df['combined_titles'] = all_df['combined_titles'].apply(\n",
    "    lambda x: None if x=='' else x\n",
    ")"
   ]
  },
  {
   "cell_type": "code",
   "execution_count": 69,
   "id": "fa4431fa",
   "metadata": {},
   "outputs": [
    {
     "data": {
      "text/plain": [
       "5181"
      ]
     },
     "execution_count": 69,
     "metadata": {},
     "output_type": "execute_result"
    }
   ],
   "source": [
    "# Some of the project numbers are None\n",
    "# If it turns out that the same project titles may be reused for different project numbers, then we are left with\n",
    "# no way of tracing these projects through there subsequent updates in the datasheets\n",
    "\n",
    "# So first check if the project titles are reused for different projects\n",
    "\n",
    "# First create a dataframe without empty project numbers\n",
    "proj_nums_df = all_df[all_df['combined_proj_nums'] != '']\n",
    "\n",
    "# Output the number of projects with unique project titles \n",
    "len(all_df.drop_duplicates(subset=['combined_proj_nums']))"
   ]
  },
  {
   "cell_type": "code",
   "execution_count": 70,
   "id": "cd4ce240",
   "metadata": {},
   "outputs": [
    {
     "data": {
      "text/plain": [
       "2321"
      ]
     },
     "execution_count": 70,
     "metadata": {},
     "output_type": "execute_result"
    }
   ],
   "source": [
    "# Now output the number of projects with unique codes and unique titles\n",
    "len(all_df.drop_duplicates(subset=['combined_proj_nums']).drop_duplicates(subset=['combined_titles']))"
   ]
  },
  {
   "cell_type": "code",
   "execution_count": 71,
   "id": "2ddd59b8",
   "metadata": {},
   "outputs": [],
   "source": [
    "# We can infer that because there are less in the second set, that there are duplicated titles across different\n",
    "# project names\n",
    "\n",
    "# Conclusion: it is not possible to trace projects through different stages of completion if they do not have \n",
    "# project numbers\n",
    "\n",
    "# Action: from now on use the dataframe where the missing project numbers have been removed\n"
   ]
  },
  {
   "cell_type": "code",
   "execution_count": 72,
   "id": "757e4cae",
   "metadata": {},
   "outputs": [
    {
     "name": "stderr",
     "output_type": "stream",
     "text": [
      "/tmp/ipykernel_65908/191425501.py:52: SettingWithCopyWarning: \n",
      "A value is trying to be set on a copy of a slice from a DataFrame.\n",
      "Try using .loc[row_indexer,col_indexer] = value instead\n",
      "\n",
      "See the caveats in the documentation: https://pandas.pydata.org/pandas-docs/stable/user_guide/indexing.html#returning-a-view-versus-a-copy\n",
      "  proj_nums_df['combined_cost'] = proj_nums_df[[\n",
      "/tmp/ipykernel_65908/191425501.py:61: SettingWithCopyWarning: \n",
      "A value is trying to be set on a copy of a slice from a DataFrame.\n",
      "Try using .loc[row_indexer,col_indexer] = value instead\n",
      "\n",
      "See the caveats in the documentation: https://pandas.pydata.org/pandas-docs/stable/user_guide/indexing.html#returning-a-view-versus-a-copy\n",
      "  proj_nums_df['combined_cost'] = proj_nums_df['combined_cost'].apply(formatCost)\n"
     ]
    }
   ],
   "source": [
    "# For contract cost, we want the following columns to be combined:\n",
    "\n",
    "'Original Contract Amount ($000)'\n",
    "'Original contract amount ($000)'\n",
    "'Original Contract Amount'\n",
    "\n",
    "# For two (out of nearly 15,000) of the projects at the below indeces, pandas \n",
    "# decides to read the costs as dates and dates as integers (?!?WHY?!?)\n",
    "#30463\n",
    "#30462\n",
    "# Hence we use the below function to reverse this\n",
    "from datetime import date\n",
    "\n",
    "def date2Cost(cost):\n",
    "    \n",
    "    offset = 693594 # Value is used to correct for different baselines in excel datetime and python datetime\n",
    "    year, month, day = int(cost[:11].split('-')[0]), int(cost[:11].split('-')[1]), int(cost[:11].split('-')[2])\n",
    "    \n",
    "    cost_date = date(year, month, day)\n",
    "    \n",
    "    cost = cost_date.toordinal()\n",
    "    \n",
    "    return cost\n",
    "\n",
    "\n",
    "# We will use this function to format the cost:\n",
    "# This is because some of the costs are floats, some are strings containing artefacts such as ',' or '\\n' and\n",
    "# some are None type. We want to coerce all into int\n",
    "\n",
    "def formatCost(cost):\n",
    "    \n",
    "    if '-' in str(cost) and ':' in str(cost):\n",
    "        cost = date2Cost(cost)\n",
    "    \n",
    "    if cost == None or cost == '':\n",
    "        return float('nan')\n",
    "    \n",
    "    if type(cost) == str:\n",
    "        cost = cost.strip(\"\\n\") \n",
    "        cost = ''.join(cost.split(','))\n",
    "        \n",
    "        cost = float(cost)\n",
    "       \n",
    "    if pd.isnull(cost):\n",
    "        return float('nan')\n",
    "        \n",
    "    cost = float(cost)\n",
    "    \n",
    "    return cost\n",
    "\n",
    "\n",
    "proj_nums_df['combined_cost'] = proj_nums_df[[\n",
    "    'Original Contract Amount ($000)', \n",
    "    'Original contract amount ($000)', \n",
    "    'Original Contract Amount'\n",
    "]].apply(\n",
    "    lambda x: ''.join(x.dropna().astype(str)), \n",
    "    axis=1\n",
    ")\n",
    "\n",
    "proj_nums_df['combined_cost'] = proj_nums_df['combined_cost'].apply(formatCost)\n"
   ]
  },
  {
   "cell_type": "code",
   "execution_count": 73,
   "id": "a2b39b0a",
   "metadata": {},
   "outputs": [
    {
     "name": "stderr",
     "output_type": "stream",
     "text": [
      "/tmp/ipykernel_65908/924705743.py:7: SettingWithCopyWarning: \n",
      "A value is trying to be set on a copy of a slice from a DataFrame.\n",
      "Try using .loc[row_indexer,col_indexer] = value instead\n",
      "\n",
      "See the caveats in the documentation: https://pandas.pydata.org/pandas-docs/stable/user_guide/indexing.html#returning-a-view-versus-a-copy\n",
      "  proj_nums_df['combined_est_completions'] = proj_nums_df[[\n",
      "/tmp/ipykernel_65908/924705743.py:16: SettingWithCopyWarning: \n",
      "A value is trying to be set on a copy of a slice from a DataFrame.\n",
      "Try using .loc[row_indexer,col_indexer] = value instead\n",
      "\n",
      "See the caveats in the documentation: https://pandas.pydata.org/pandas-docs/stable/user_guide/indexing.html#returning-a-view-versus-a-copy\n",
      "  proj_nums_df['combined_est_completions'] = proj_nums_df['combined_est_completions'].apply(\n"
     ]
    }
   ],
   "source": [
    "# For original completion dates, we want these columns to be combined:\n",
    "\n",
    "'Original Completion Date'\n",
    "'Original completion date'\n",
    "' Original Contract Completion Date'\n",
    "\n",
    "proj_nums_df['combined_est_completions'] = proj_nums_df[[\n",
    "    'Original Completion Date',\n",
    "    'Original completion date',\n",
    "    ' Original Contract Completion Date'\n",
    "]].apply(\n",
    "    lambda x: ''.join(x.dropna().astype(str)), \n",
    "    axis=1\n",
    ")\n",
    "\n",
    "proj_nums_df['combined_est_completions'] = proj_nums_df['combined_est_completions'].apply(\n",
    "    lambda x: None if x=='' else x\n",
    ")\n"
   ]
  },
  {
   "cell_type": "code",
   "execution_count": 74,
   "id": "1abc1f06",
   "metadata": {},
   "outputs": [
    {
     "name": "stderr",
     "output_type": "stream",
     "text": [
      "/tmp/ipykernel_65908/212952275.py:6: SettingWithCopyWarning: \n",
      "A value is trying to be set on a copy of a slice from a DataFrame.\n",
      "Try using .loc[row_indexer,col_indexer] = value instead\n",
      "\n",
      "See the caveats in the documentation: https://pandas.pydata.org/pandas-docs/stable/user_guide/indexing.html#returning-a-view-versus-a-copy\n",
      "  proj_nums_df['data_date_combined'] = proj_nums_df[[\n"
     ]
    }
   ],
   "source": [
    "# We want to homeginise the following pct. complete columns\n",
    "'Data As Of Date'\n",
    "'Data as of Date'\n",
    "'Contract Data as of Date'\n",
    "\n",
    "proj_nums_df['data_date_combined'] = proj_nums_df[[\n",
    "    'Data As Of Date',\n",
    "    'Data as of Date',\n",
    "    'Contract Data as of Date'\n",
    "]].apply(\n",
    "    lambda x: ''.join(x.dropna().astype(str)), \n",
    "    axis=1\n",
    ")\n",
    "\n"
   ]
  },
  {
   "cell_type": "code",
   "execution_count": 75,
   "id": "b4c1c8d0",
   "metadata": {},
   "outputs": [
    {
     "name": "stderr",
     "output_type": "stream",
     "text": [
      "/tmp/ipykernel_65908/1775616311.py:8: SettingWithCopyWarning: \n",
      "A value is trying to be set on a copy of a slice from a DataFrame.\n",
      "Try using .loc[row_indexer,col_indexer] = value instead\n",
      "\n",
      "See the caveats in the documentation: https://pandas.pydata.org/pandas-docs/stable/user_guide/indexing.html#returning-a-view-versus-a-copy\n",
      "  proj_nums_df['combined_pct_complete'] = proj_nums_df[[\n"
     ]
    }
   ],
   "source": [
    "# We also want to homegenise the 'data as of date' columns (these indicate when the given record was updated\\when\n",
    "# the data is from)\n",
    "' % Complete'\n",
    "'% complete'\n",
    "'Percent Complete'\n",
    "'% Complete'\n",
    "\n",
    "proj_nums_df['combined_pct_complete'] = proj_nums_df[[\n",
    "    ' % Complete',\n",
    "    '% complete',\n",
    "    'Percent Complete',\n",
    "    '% Complete'\n",
    "]].apply(\n",
    "    lambda x: ''.join(x.dropna().astype(str)), \n",
    "    axis=1\n",
    ")"
   ]
  },
  {
   "cell_type": "markdown",
   "id": "64df6ed3",
   "metadata": {},
   "source": [
    "# Check how many projects have valid data for pct. complete\n",
    "\n",
    "Looking at the data below, it seems there are no data for the pct. complete columns after the year 2015. This leaves us with only 40'000 datapoints. The pct complete values tell how much progress has been made on the project at time of data collection.\n",
    "\n",
    "The reason why this data isn't recorded after 2015 is because the overall projects are recorded in a seperate table to the contracts. The pct. complete is present for the projects, but not the individual contracts (which is what we are interested in). \n",
    "\n",
    "We cannot simply match these by project number because there may be many contracts associated with a single project. Hence, even if a contract is complete, the completion percentage for the overall project might read less than 100% because there are other contracts still underway.\n",
    "\n",
    "### *Action:*\n",
    "\n",
    " - What we can do is isolate the projects which only have one corresponding contract in the database. These pct complete values must refer to that contract alone, and can hence be used for analysis.\n",
    "\n",
    " - Another thing we can do is isolate the projects that are 100% complete. This way we know that all associated contracts must also be 100% complete. This cannot be used for an analysis of cost/schedule estimates throughout different project stages - but we can still use the data for the final overruns."
   ]
  },
  {
   "cell_type": "code",
   "execution_count": 76,
   "id": "b2920434",
   "metadata": {},
   "outputs": [
    {
     "data": {
      "text/plain": [
       "array([2013, '2014 ', 2015], dtype=object)"
      ]
     },
     "execution_count": 76,
     "metadata": {},
     "output_type": "execute_result"
    }
   ],
   "source": [
    "# Which years contain pct. complete data ?\n",
    "\n",
    "proj_nums_df[proj_nums_df['combined_pct_complete'] != '']['archive_year'].unique()"
   ]
  },
  {
   "cell_type": "code",
   "execution_count": 77,
   "id": "9a338f12",
   "metadata": {},
   "outputs": [
    {
     "data": {
      "text/plain": [
       "40610"
      ]
     },
     "execution_count": 77,
     "metadata": {},
     "output_type": "execute_result"
    }
   ],
   "source": [
    "# How many data are there ?\n",
    "\n",
    "len(proj_nums_df[proj_nums_df['combined_pct_complete'] != ''])"
   ]
  },
  {
   "cell_type": "code",
   "execution_count": 78,
   "id": "b13e2052",
   "metadata": {},
   "outputs": [],
   "source": [
    "# We need to import the project data from years 2016 onward\n",
    "\n",
    "projects_datasheets = []\n",
    "\n",
    "for yr in list(range(2016, 2024)):\n",
    "    \n",
    "    month = 0\n",
    "    \n",
    "    for f in glob.glob(f\"../data/*{yr}.xlsx\"):\n",
    "        \n",
    "        projects_datasheets.append(pd.read_excel(f, dtype='object'))\n",
    "            \n",
    "        projects_datasheets[-1]['archive_year'] = yr\n",
    "        projects_datasheets[-1]['archive_month'] = month\n",
    "        \n",
    "projects_df = pd.concat(projects_datasheets)\n",
    "\n",
    "\n"
   ]
  },
  {
   "cell_type": "code",
   "execution_count": 79,
   "id": "7dd33ac9",
   "metadata": {
    "scrolled": true
   },
   "outputs": [
    {
     "name": "stderr",
     "output_type": "stream",
     "text": [
      "/tmp/ipykernel_65908/2483264547.py:5: SettingWithCopyWarning: \n",
      "A value is trying to be set on a copy of a slice from a DataFrame.\n",
      "Try using .loc[row_indexer,col_indexer] = value instead\n",
      "\n",
      "See the caveats in the documentation: https://pandas.pydata.org/pandas-docs/stable/user_guide/indexing.html#returning-a-view-versus-a-copy\n",
      "  proj_nums_df['archive_year'] = proj_nums_df['archive_year'].astype(int)\n"
     ]
    },
    {
     "data": {
      "text/plain": [
       "58177"
      ]
     },
     "execution_count": 79,
     "metadata": {},
     "output_type": "execute_result"
    }
   ],
   "source": [
    "# Create subset of projects_df containing only 100% complete contracts\n",
    "complete_projects_df = projects_df[projects_df['Construction Percent Complete'] == 1]\n",
    "\n",
    "# - identify projects after 2016 which only have a single contract associated with them\n",
    "proj_nums_df['archive_year'] = proj_nums_df['archive_year'].astype(int)\n",
    "post_2015_contracts = proj_nums_df[proj_nums_df['archive_year'] > 2015]\n",
    "\n",
    "# Project numbers which are associated with just one project title\n",
    "# dict in the form: { number: set(titles) } and then use numbers with set length > 1 to index dataframe\n",
    "numbers2titles = {}\n",
    "for i, row in post_2015_contracts.iterrows():\n",
    "    numbers2titles.setdefault(row['combined_proj_nums'], set([row['Prime Contract Number ']]))\n",
    "    numbers2titles[row['combined_proj_nums']].add(row['Prime Contract Number '])\n",
    "\n",
    "one_contract_proj_names = [k for k, v in numbers2titles.items() if len(v)==1]\n",
    "\n",
    "one_contract_proj_names\n",
    "\n",
    "# - create a subset of projects_df containing only the project numbers that have a single contract associated \n",
    "# with them\n",
    "one_contract_projects_df = projects_df[projects_df['Project Number'].isin(one_contract_proj_names)]\n",
    "\n",
    "\n",
    "# Need a way of ensuring that the pct complete value is refering to the correct update.\n",
    "# Maybe best way is to record which sheet the data came from, and make sure that matches\n",
    "lmerge = one_contract_projects_df[~one_contract_projects_df['Project Number'].isna()]\n",
    "rmerge = post_2015_contracts[~post_2015_contracts['combined_proj_nums'].isna()]\n",
    "lmerge['Project Number'] = lmerge['Project Number'].astype(str)\n",
    "rmerge['combined_proj_nums'] = rmerge['combined_proj_nums'].astype(str)\n",
    "\n",
    "contracts_projects_merged = pd.merge(\n",
    "    lmerge, \n",
    "    rmerge, \n",
    "    how=\"inner\", \n",
    "    left_on=['Project Number', 'archive_year', 'archive_month'],\n",
    "    right_on=['combined_proj_nums', 'archive_year', 'archive_month']\n",
    ")\n",
    "\n",
    "\n",
    "# Total number of projects where we can match project numbers with contracts\n",
    "# These are the projects that consist of just one contract\n",
    "\n",
    "len(contracts_projects_merged)"
   ]
  },
  {
   "cell_type": "code",
   "execution_count": 80,
   "id": "5215f17b",
   "metadata": {},
   "outputs": [
    {
     "data": {
      "text/plain": [
       "12239"
      ]
     },
     "execution_count": 80,
     "metadata": {},
     "output_type": "execute_result"
    }
   ],
   "source": [
    "# In order to verify that the percent complete value is relevent to the contract data, we \n",
    "# can check that the update was made at the same time\n",
    "\n",
    "# We also want to check that we have values for pct complete\n",
    "\n",
    "# Create a new dataframe containing merged projects and contracts where the data as of dates \n",
    "# match\n",
    "contracts_projects_merged_pct_complete = contracts_projects_merged[\n",
    "    (contracts_projects_merged['Project Data as of Date'] == contracts_projects_merged['data_date_combined']) \n",
    "    & (~contracts_projects_merged['Construction Percent Complete'].isna())\n",
    "]\n",
    "\n",
    "# Number of projects/contracts where data was uploaded at the same time\n",
    "len(contracts_projects_merged_pct_complete)"
   ]
  },
  {
   "cell_type": "code",
   "execution_count": 81,
   "id": "0ddcf7a2",
   "metadata": {},
   "outputs": [
    {
     "data": {
      "text/plain": [
       "['Submittal Date_x',\n",
       " 'Fiscal Year_x',\n",
       " 'Component_x',\n",
       " 'Project Type_x',\n",
       " 'State or Country_x',\n",
       " 'Unnamed: 5_x',\n",
       " 'Installation_x',\n",
       " 'Project Number',\n",
       " 'Project Title',\n",
       " 'Solicitation/ Advertise Date_x',\n",
       " 'Award Date_x',\n",
       " 'Contract Recipient_x',\n",
       " 'Original Contract Amount ($000)_x',\n",
       " 'Current Contract Obligation ($000)_x',\n",
       " 'Start Date_x',\n",
       " 'Occupancy Date_x',\n",
       " 'Original Completion Date_x',\n",
       " 'Current Completion Date_x',\n",
       " ' % Complete_x',\n",
       " 'Funds Diverted ($000) (if applicable)_x',\n",
       " 'Remarks_x',\n",
       " 'archive_year_x',\n",
       " 'archive_month_x',\n",
       " 'Data As Of Date_x',\n",
       " 'Submission Date_x',\n",
       " 'Project type_x',\n",
       " 'State or country_x',\n",
       " 'State or country title_x',\n",
       " 'Project number_x',\n",
       " 'Project title_x',\n",
       " 'Solicitation/ advertise date_x',\n",
       " 'Award date_x',\n",
       " 'Contract recipient_x',\n",
       " 'Original contract amount ($000)_x',\n",
       " 'Current contract obligation ($000)_x',\n",
       " 'Start date_x',\n",
       " 'Occupancy date_x',\n",
       " 'Original completion date_x',\n",
       " 'Current completion date_x',\n",
       " '% complete_x',\n",
       " 'Funds diverted ($000) (if applicable)_x',\n",
       " 'Data as of Date_x',\n",
       " 'State (2-Alpha)/ Country (3-Alpha)_x',\n",
       " 'State or Country Title_x',\n",
       " 'Percent Complete_x',\n",
       " 'Funds Diverted ($000) \\n(if applicable)_x',\n",
       " 'Recipient Project    \\n(if applicable)_x',\n",
       " 'Recipient Installation \\n(if applicable)_x',\n",
       " 'Notes/Remarks_x',\n",
       " 'Submittal date_x',\n",
       " 'Recipient Project    (If applicable)_x',\n",
       " 'Recipient Installation (If applicable)_x',\n",
       " '% Complete_x',\n",
       " 'Funds Diverted ($000)\\n if applicable_x',\n",
       " 'Construction Project Type_x',\n",
       " 'State _x',\n",
       " 'Country_x',\n",
       " 'Solicitation Date_x',\n",
       " 'Prime Contract Recipient\\n(Company Name)_x',\n",
       " 'Prime Contract Number _x',\n",
       " 'Placed-In-Service Date_x',\n",
       " 'Diverted Funds Amount\\n($000)_x',\n",
       " 'Diverted Funds Recipient Project    \\n_x',\n",
       " 'State (2-Alpha) / \\nCountry (3-Alpha)_x',\n",
       " 'Parent Project Number \\n[Initial Appropriation]_x',\n",
       " 'Diverted Funds Recipient Project_x',\n",
       " 'Contract Data as of Date_x',\n",
       " 'Project Fiscal Year',\n",
       " 'Project Sponsor Component Name',\n",
       " 'Sub-Project Number',\n",
       " 'Contract Solicitation Date_x',\n",
       " 'Contract Award Date_x',\n",
       " 'Prime Contract Recipient Name_x',\n",
       " 'Original Contract Amount_x',\n",
       " 'Current Contract Obligation Amount_x',\n",
       " ' Original Contract Completion Date_x',\n",
       " ' Current Contract Completion Date_x',\n",
       " 'Contract Remarks_x',\n",
       " 'Original Contract Amount\\n($000)_x',\n",
       " 'Placed-In-Service\\nDate_x',\n",
       " 'Current Contract Obligation\\n($000)_x',\n",
       " 'Unnamed: 23_x',\n",
       " 'combined_proj_nums_x',\n",
       " 'combined_titles_x',\n",
       " 'combined_cost_x',\n",
       " 'combined_est_completions_x',\n",
       " 'data_date_combined_x',\n",
       " 'combined_pct_complete_x',\n",
       " 'Project Data as of Date',\n",
       " 'Project Fiscal Year_x',\n",
       " 'Project Sponsor Component Name_x',\n",
       " 'Construction Project Type Name',\n",
       " 'State Name',\n",
       " 'Country Name',\n",
       " 'Project Number_x',\n",
       " 'Project Title_x',\n",
       " 'Sub-Project Number_x',\n",
       " 'Diverted Funds Total Amount',\n",
       " 'Diverted Funds Recipient Text',\n",
       " 'Construction Start Date',\n",
       " ' Original Construction Completion Date',\n",
       " 'Current Construction Completion Date',\n",
       " 'Construction Percent Complete',\n",
       " 'Current RPA Placed-In-Service Date',\n",
       " 'Project Remarks',\n",
       " 'archive_year_y',\n",
       " 'archive_month_y',\n",
       " 'Project Remarks.1',\n",
       " 'Diverted Funds Recipient Site Identifier Text',\n",
       " 'Submittal Date_y',\n",
       " 'Fiscal Year_y',\n",
       " 'Component_y',\n",
       " 'Project Type_y',\n",
       " 'State or Country_y',\n",
       " 'Unnamed: 5_y',\n",
       " 'Installation_y',\n",
       " 'Project Number_y',\n",
       " 'Project Title_y',\n",
       " 'Solicitation/ Advertise Date_y',\n",
       " 'Award Date_y',\n",
       " 'Contract Recipient_y',\n",
       " 'Original Contract Amount ($000)_y',\n",
       " 'Current Contract Obligation ($000)_y',\n",
       " 'Start Date_y',\n",
       " 'Occupancy Date_y',\n",
       " 'Original Completion Date_y',\n",
       " 'Current Completion Date_y',\n",
       " ' % Complete_y',\n",
       " 'Funds Diverted ($000) (if applicable)_y',\n",
       " 'Remarks_y',\n",
       " 'Data As Of Date_y',\n",
       " 'Submission Date_y',\n",
       " 'Project type_y',\n",
       " 'State or country_y',\n",
       " 'State or country title_y',\n",
       " 'Project number_y',\n",
       " 'Project title_y',\n",
       " 'Solicitation/ advertise date_y',\n",
       " 'Award date_y',\n",
       " 'Contract recipient_y',\n",
       " 'Original contract amount ($000)_y',\n",
       " 'Current contract obligation ($000)_y',\n",
       " 'Start date_y',\n",
       " 'Occupancy date_y',\n",
       " 'Original completion date_y',\n",
       " 'Current completion date_y',\n",
       " '% complete_y',\n",
       " 'Funds diverted ($000) (if applicable)_y',\n",
       " 'Data as of Date_y',\n",
       " 'State (2-Alpha)/ Country (3-Alpha)_y',\n",
       " 'State or Country Title_y',\n",
       " 'Percent Complete_y',\n",
       " 'Funds Diverted ($000) \\n(if applicable)_y',\n",
       " 'Recipient Project    \\n(if applicable)_y',\n",
       " 'Recipient Installation \\n(if applicable)_y',\n",
       " 'Notes/Remarks_y',\n",
       " 'Submittal date_y',\n",
       " 'Recipient Project    (If applicable)_y',\n",
       " 'Recipient Installation (If applicable)_y',\n",
       " '% Complete_y',\n",
       " 'Funds Diverted ($000)\\n if applicable_y',\n",
       " 'Construction Project Type_y',\n",
       " 'State _y',\n",
       " 'Country_y',\n",
       " 'Solicitation Date_y',\n",
       " 'Prime Contract Recipient\\n(Company Name)_y',\n",
       " 'Prime Contract Number _y',\n",
       " 'Placed-In-Service Date_y',\n",
       " 'Diverted Funds Amount\\n($000)_y',\n",
       " 'Diverted Funds Recipient Project    \\n_y',\n",
       " 'State (2-Alpha) / \\nCountry (3-Alpha)_y',\n",
       " 'Parent Project Number \\n[Initial Appropriation]_y',\n",
       " 'Diverted Funds Recipient Project_y',\n",
       " 'Contract Data as of Date_y',\n",
       " 'Project Fiscal Year_y',\n",
       " 'Project Sponsor Component Name_y',\n",
       " 'Sub-Project Number_y',\n",
       " 'Contract Solicitation Date_y',\n",
       " 'Contract Award Date_y',\n",
       " 'Prime Contract Recipient Name_y',\n",
       " 'Original Contract Amount_y',\n",
       " 'Current Contract Obligation Amount_y',\n",
       " ' Original Contract Completion Date_y',\n",
       " ' Current Contract Completion Date_y',\n",
       " 'Contract Remarks_y',\n",
       " 'Original Contract Amount\\n($000)_y',\n",
       " 'Placed-In-Service\\nDate_y',\n",
       " 'Current Contract Obligation\\n($000)_y',\n",
       " 'Unnamed: 23_y',\n",
       " 'combined_proj_nums_y',\n",
       " 'combined_titles_y',\n",
       " 'combined_cost_y',\n",
       " 'combined_est_completions_y',\n",
       " 'data_date_combined_y',\n",
       " 'combined_pct_complete_y',\n",
       " 'combined_proj_nums',\n",
       " 'combined_titles',\n",
       " 'combined_cost',\n",
       " 'combined_est_completions',\n",
       " 'combined_pct_complete']"
      ]
     },
     "execution_count": 81,
     "metadata": {},
     "output_type": "execute_result"
    }
   ],
   "source": [
    "contracts_pct_complete.columns.tolist()"
   ]
  },
  {
   "cell_type": "code",
   "execution_count": 82,
   "id": "f78f189a",
   "metadata": {},
   "outputs": [
    {
     "data": {
      "text/plain": [
       "52849"
      ]
     },
     "execution_count": 82,
     "metadata": {},
     "output_type": "execute_result"
    }
   ],
   "source": [
    "# Create a dataframe which contains all contracts for which we have pct. complete data\n",
    "\n",
    "contracts_pct_complete_left = proj_nums_df[proj_nums_df['combined_pct_complete'] != '']\n",
    "\n",
    "contracts_pct_complete = pd.merge(\n",
    "    contracts_pct_complete_left,\n",
    "    contracts_projects_merged_pct_complete, \n",
    "    how=\"outer\",\n",
    "    left_on=['combined_pct_complete'],\n",
    "    right_on=['Construction Percent Complete']\n",
    "    )\n",
    "\n",
    "\n",
    "\n",
    "# Combine proj nums\n",
    "contracts_pct_complete['combined_proj_nums'] = contracts_pct_complete[[\n",
    "    'combined_proj_nums_x',\n",
    "    'combined_proj_nums_y'\n",
    "]].apply(\n",
    "    lambda x: ''.join(x.dropna().astype(str)), \n",
    "    axis=1\n",
    ")\n",
    "\n",
    "\n",
    "# Combine proj titles\n",
    "contracts_pct_complete['combined_titles'] = contracts_pct_complete[[\n",
    "    'combined_titles_x',\n",
    "    'combined_titles_x'\n",
    "]].apply(\n",
    "    lambda x: ''.join(x.dropna().astype(str)), \n",
    "    axis=1\n",
    ")\n",
    "\n",
    "\n",
    "# Combine costs\n",
    "contracts_pct_complete['combined_est_cost'] = contracts_pct_complete[[\n",
    "    'combined_cost_x',\n",
    "    'combined_cost_y'\n",
    "]].apply(\n",
    "    lambda x: ''.join(x.dropna().astype(str)), \n",
    "    axis=1\n",
    ")\n",
    "\n",
    "\n",
    "\n",
    "# Combine estimated costs\n",
    "contracts_pct_complete['combined_est_completions'] = contracts_pct_complete[[\n",
    "    'combined_est_completions_x',\n",
    "    'combined_est_completions_y'\n",
    "]].apply(\n",
    "    lambda x: ''.join(x.dropna().astype(str)), \n",
    "    axis=1\n",
    ")\n",
    "\n",
    "\n",
    "# Combine start dates\n",
    "contracts_pct_complete['combined_start_dates'] = contracts_pct_complete[[\n",
    "    'Start Date_x',\n",
    "    'Start date_x',\n",
    "    'Construction Start Date',\n",
    "    'Start Date_y',\n",
    "    'Start date_y'\n",
    "]].apply(\n",
    "    lambda x: ''.join(x.dropna().astype(str)), \n",
    "    axis=1\n",
    ")\n",
    "\n",
    "# Combine award dates\n",
    "contracts_pct_complete['combined_award_dates'] = contracts_pct_complete[[\n",
    "    'Award Date_x',\n",
    "    'Award date_x',\n",
    "    'Contract Award Date_x',\n",
    "    'Award Date_y',\n",
    "    'Award date_y',\n",
    "    'Contract Award Date_y'\n",
    "]].apply(\n",
    "    lambda x: ''.join(x.dropna().astype(str)), \n",
    "    axis=1\n",
    ")\n",
    "\n",
    "# Combine submission dates\n",
    "contracts_pct_complete['combined_sub_dates'] = contracts_pct_complete[[\n",
    "    'Submittal Date_x',\n",
    "    'Submission Date_x',\n",
    "    'Submittal date_x',\n",
    "    'Submittal Date_y',\n",
    "    'Submission Date_y',\n",
    "    'Submittal date_y'\n",
    "]].apply(\n",
    "    lambda x: ''.join(x.dropna().astype(str)), \n",
    "    axis=1\n",
    ")\n",
    "\n",
    "# Combine solicitation dates\n",
    "contracts_pct_complete['combined_sol_dates'] = contracts_pct_complete[[\n",
    "    'Solicitation/ Advertise Date_x',\n",
    "    'Solicitation/ advertise date_x',\n",
    "    'Solicitation Date_x',\n",
    "    'Contract Solicitation Date_x',\n",
    "    'Solicitation/ Advertise Date_y',\n",
    "    'Solicitation/ advertise date_y',\n",
    "    'Solicitation Date_y',\n",
    "    'Contract Solicitation Date_y'\n",
    "]].apply(\n",
    "    lambda x: ''.join(x.dropna().astype(str)), \n",
    "    axis=1\n",
    ")\n",
    "\n",
    "# Combine occupancy dates\n",
    "contracts_pct_complete['combined_occ_dates'] = contracts_pct_complete[[\n",
    "    'Occupancy Date_x',\n",
    "    'Occupancy date_x',\n",
    "    'Occupancy Date_y',\n",
    "    'Occupancy date_y',\n",
    "    'Placed-In-Service Date_x',\n",
    "    'Placed-In-Service\\nDate_x',\n",
    "    'Current RPA Placed-In-Service Date',\n",
    "    'Placed-In-Service Date_y',\n",
    "    'Placed-In-Service\\nDate_y'\n",
    "]].apply(\n",
    "    lambda x: ''.join(x.dropna().astype(str)), \n",
    "    axis=1\n",
    ")\n",
    "\n",
    "contracts_pct_complete['combined_data_as_of_dates'] = contracts_pct_complete[[\n",
    "    'Data As Of Date_x',\n",
    "    'Data as of Date_x',\n",
    "    'Contract Data as of Date_x',\n",
    "    'Project Data as of Date',\n",
    "    'Data As Of Date_y',\n",
    "    'Data as of Date_y',\n",
    "    'Contract Data as of Date_y'\n",
    "]].apply(\n",
    "    lambda x: ''.join(x.dropna().astype(str)), \n",
    "    axis=1\n",
    ")\n",
    "\n",
    "contracts_pct_complete['combined_current_completion_dates'] = contracts_pct_complete[[\n",
    "    'Current Completion Date_x',\n",
    "    'Current completion date_x',    \n",
    "    ' Current Contract Completion Date_x',\n",
    "    'Current Construction Completion Date',\n",
    "    'Current Completion Date_y', \n",
    "    'Current completion date_y',\n",
    "    ' Current Contract Completion Date_y'\n",
    "]].apply(\n",
    "    lambda x: ''.join(x.dropna().astype(str)), \n",
    "    axis=1\n",
    ")\n",
    "\n",
    "contracts_pct_complete['combined_current_cost'] = contracts_pct_complete[[\n",
    "    'Current Contract Obligation ($000)_x',\n",
    "    'Current contract obligation ($000)_x',\n",
    "    'Current Contract Obligation Amount_x',\n",
    "    'Current Contract Obligation\\n($000)_x',\n",
    "    'Current Contract Obligation ($000)_y',\n",
    "    'Current contract obligation ($000)_y',\n",
    "    'Current Contract Obligation Amount_y',\n",
    "    'Current Contract Obligation\\n($000)_y'\n",
    "]].apply(\n",
    "    lambda x: ''.join(x.dropna().astype(str)), \n",
    "    axis=1\n",
    ")\n",
    "\n",
    "\n",
    "len(contracts_pct_complete)"
   ]
  },
  {
   "cell_type": "code",
   "execution_count": 83,
   "id": "4dd63fb6",
   "metadata": {},
   "outputs": [
    {
     "data": {
      "text/plain": [
       "['Current Contract Obligation ($000)_x',\n",
       " 'Current contract obligation ($000)_x',\n",
       " 'Current Contract Obligation Amount_x',\n",
       " 'Current Contract Obligation\\n($000)_x',\n",
       " 'Current Contract Obligation ($000)_y',\n",
       " 'Current contract obligation ($000)_y',\n",
       " 'Current Contract Obligation Amount_y',\n",
       " 'Current Contract Obligation\\n($000)_y']"
      ]
     },
     "execution_count": 83,
     "metadata": {},
     "output_type": "execute_result"
    }
   ],
   "source": [
    "[x for x in contracts_pct_complete.columns.tolist() if \"bligation\" in x]"
   ]
  },
  {
   "cell_type": "code",
   "execution_count": 84,
   "id": "79b3a647",
   "metadata": {},
   "outputs": [],
   "source": [
    "# Merge percent complete columns into one\n",
    "\n",
    "contracts_pct_complete['combined_pct_complete'] = contracts_pct_complete[[\n",
    "    'Construction Percent Complete',\n",
    "    'combined_pct_complete_x'\n",
    "]].apply(\n",
    "    lambda x: ''.join(x.dropna().astype(str)), \n",
    "    axis=1\n",
    ")"
   ]
  },
  {
   "cell_type": "code",
   "execution_count": 85,
   "id": "4540bc97",
   "metadata": {},
   "outputs": [
    {
     "data": {
      "text/plain": [
       "52838"
      ]
     },
     "execution_count": 85,
     "metadata": {},
     "output_type": "execute_result"
    }
   ],
   "source": [
    "# Remove missing values\n",
    "\n",
    "contracts_pct_complete = contracts_pct_complete[contracts_pct_complete['combined_pct_complete'] != ' ']\n",
    "contracts_pct_complete = contracts_pct_complete[\n",
    "    ~contracts_pct_complete['combined_pct_complete'].str.contains(\":\")\n",
    "]\n",
    "\n",
    "# Final number of contracts where we have pct complete data\n",
    "len(contracts_pct_complete)"
   ]
  },
  {
   "cell_type": "markdown",
   "id": "5e506084",
   "metadata": {},
   "source": [
    "## Conclusion\n",
    "\n",
    "- We have access to 52839 contracts with pct. complete data"
   ]
  },
  {
   "cell_type": "markdown",
   "id": "ba254277",
   "metadata": {},
   "source": [
    "# Normalise the pct complete data\n",
    "\n",
    "We want to normalise the pct complete values so that all values are given as decimals (ie, 50% is given as 0.5) and are floating point data types\n",
    "\n",
    "- For 2013, all percent complete data are given as whole numbers, not decimals\n",
    "- For 2014, all percent complete data are given as whole numbers, not decimals\n",
    "- For 2015, some percent complete data are entered as decimals and other are strings containing '%' symbol\n",
    "- For 2016 onwards, percent complete are given as decimals\n",
    "\n",
    "\n",
    "\n",
    "## *Action*\n",
    "- Divide pct complete data by 100 for all contracts from 2013\n",
    "- Divide pct complete data by 100 for all contracts from 2014\n",
    "- Remove '%' character from data and divide by 100\n",
    "- Convert all to float\n",
    "\n",
    "\n",
    "\n"
   ]
  },
  {
   "cell_type": "code",
   "execution_count": 86,
   "id": "1329d827",
   "metadata": {},
   "outputs": [],
   "source": [
    "# Convert pct complete to decimals for 2013 contracts\n",
    "contracts_pct_complete.loc[\n",
    "    contracts_pct_complete['archive_year_x'] == 2013, \n",
    "    'combined_pct_complete'\n",
    "] = contracts_pct_complete[\n",
    "    contracts_pct_complete['archive_year_x'] == 2013\n",
    "]['combined_pct_complete'].apply(lambda x: float(x) / 100)"
   ]
  },
  {
   "cell_type": "code",
   "execution_count": 87,
   "id": "f7984f5a",
   "metadata": {},
   "outputs": [],
   "source": [
    "# Convert pct complete to decimals for 2014 contracts\n",
    "contracts_pct_complete.loc[\n",
    "    contracts_pct_complete['archive_year_x'] == 2014,\n",
    "    'combined_pct_complete'\n",
    "] = contracts_pct_complete[\n",
    "    contracts_pct_complete['archive_year_x'] == 2014\n",
    "]['combined_pct_complete'].apply(lambda x: float(x) / 100)"
   ]
  },
  {
   "cell_type": "code",
   "execution_count": 88,
   "id": "5e283d25",
   "metadata": {},
   "outputs": [],
   "source": [
    "# Remove strings in pct complete containing '%', and convert to decimal\n",
    "contracts_pct_complete[\n",
    "    'combined_pct_complete'\n",
    "] = contracts_pct_complete[\n",
    "    'combined_pct_complete'\n",
    "].apply(lambda x: float(x.strip('%') if '%' in str(x) else float(x)))\n"
   ]
  },
  {
   "cell_type": "code",
   "execution_count": 89,
   "id": "3cae5247",
   "metadata": {},
   "outputs": [],
   "source": [
    "# Double check all in correct format\n",
    "contracts_pct_complete[\n",
    "    'combined_pct_complete'\n",
    "] = contracts_pct_complete['combined_pct_complete'].astype(float)"
   ]
  },
  {
   "cell_type": "markdown",
   "id": "12ae11c9",
   "metadata": {},
   "source": [
    "# Combine the contract recipient columns"
   ]
  },
  {
   "cell_type": "markdown",
   "id": "5ff91ccf",
   "metadata": {},
   "source": [
    "# Do the original contract amounts and orignal completion dates remain consistent throughtout each mention of a project ?\n",
    "\n",
    "To check this, we can create a dictionary that holds as keys each project ID, and as values lists containing the original costs mentioned for each project. Repeat for completion date. Assuming this does not change, we should expect that the length of the value lists are consistently 1."
   ]
  },
  {
   "cell_type": "code",
   "execution_count": 90,
   "id": "477a7733",
   "metadata": {},
   "outputs": [
    {
     "ename": "KeyError",
     "evalue": "'combined_cost'",
     "output_type": "error",
     "traceback": [
      "\u001b[0;31m---------------------------------------------------------------------------\u001b[0m",
      "\u001b[0;31mKeyError\u001b[0m                                  Traceback (most recent call last)",
      "File \u001b[0;32m/usr/local/lib/python3.11/site-packages/pandas/core/indexes/base.py:3652\u001b[0m, in \u001b[0;36mIndex.get_loc\u001b[0;34m(self, key)\u001b[0m\n\u001b[1;32m   3651\u001b[0m \u001b[38;5;28;01mtry\u001b[39;00m:\n\u001b[0;32m-> 3652\u001b[0m     \u001b[38;5;28;01mreturn\u001b[39;00m \u001b[38;5;28;43mself\u001b[39;49m\u001b[38;5;241;43m.\u001b[39;49m\u001b[43m_engine\u001b[49m\u001b[38;5;241;43m.\u001b[39;49m\u001b[43mget_loc\u001b[49m\u001b[43m(\u001b[49m\u001b[43mcasted_key\u001b[49m\u001b[43m)\u001b[49m\n\u001b[1;32m   3653\u001b[0m \u001b[38;5;28;01mexcept\u001b[39;00m \u001b[38;5;167;01mKeyError\u001b[39;00m \u001b[38;5;28;01mas\u001b[39;00m err:\n",
      "File \u001b[0;32m/usr/local/lib/python3.11/site-packages/pandas/_libs/index.pyx:147\u001b[0m, in \u001b[0;36mpandas._libs.index.IndexEngine.get_loc\u001b[0;34m()\u001b[0m\n",
      "File \u001b[0;32m/usr/local/lib/python3.11/site-packages/pandas/_libs/index.pyx:176\u001b[0m, in \u001b[0;36mpandas._libs.index.IndexEngine.get_loc\u001b[0;34m()\u001b[0m\n",
      "File \u001b[0;32mpandas/_libs/hashtable_class_helper.pxi:7080\u001b[0m, in \u001b[0;36mpandas._libs.hashtable.PyObjectHashTable.get_item\u001b[0;34m()\u001b[0m\n",
      "File \u001b[0;32mpandas/_libs/hashtable_class_helper.pxi:7088\u001b[0m, in \u001b[0;36mpandas._libs.hashtable.PyObjectHashTable.get_item\u001b[0;34m()\u001b[0m\n",
      "\u001b[0;31mKeyError\u001b[0m: 'combined_cost'",
      "\nThe above exception was the direct cause of the following exception:\n",
      "\u001b[0;31mKeyError\u001b[0m                                  Traceback (most recent call last)",
      "Cell \u001b[0;32mIn[90], line 7\u001b[0m\n\u001b[1;32m      1\u001b[0m \u001b[38;5;66;03m# Make the dictionaries\u001b[39;00m\n\u001b[1;32m      2\u001b[0m \u001b[38;5;66;03m# We want this format: { ProjectID_ProjectTitle_PctComplete : set(est_cost1, est_cost2) }\u001b[39;00m\n\u001b[1;32m      3\u001b[0m \u001b[38;5;66;03m# Values which are sets of length > 1 may indicate that the 'original' budget was updated\u001b[39;00m\n\u001b[1;32m      4\u001b[0m \n\u001b[1;32m      5\u001b[0m \u001b[38;5;66;03m# Step 1:\u001b[39;00m\n\u001b[1;32m      6\u001b[0m \u001b[38;5;66;03m# Format all cost data\u001b[39;00m\n\u001b[0;32m----> 7\u001b[0m contracts_pct_complete[\u001b[38;5;124m'\u001b[39m\u001b[38;5;124mcombined_cost\u001b[39m\u001b[38;5;124m'\u001b[39m] \u001b[38;5;241m=\u001b[39m \u001b[43mcontracts_pct_complete\u001b[49m\u001b[43m[\u001b[49m\u001b[38;5;124;43m'\u001b[39;49m\u001b[38;5;124;43mcombined_cost\u001b[39;49m\u001b[38;5;124;43m'\u001b[39;49m\u001b[43m]\u001b[49m\u001b[38;5;241m.\u001b[39mapply(\n\u001b[1;32m      8\u001b[0m     \u001b[38;5;28;01mlambda\u001b[39;00m x: \u001b[38;5;28mfloat\u001b[39m(x) \u001b[38;5;28;01mif\u001b[39;00m x \u001b[38;5;241m!=\u001b[39m \u001b[38;5;124m'\u001b[39m\u001b[38;5;124m'\u001b[39m \u001b[38;5;28;01melse\u001b[39;00m \u001b[38;5;28mfloat\u001b[39m(\u001b[38;5;124m'\u001b[39m\u001b[38;5;124mnan\u001b[39m\u001b[38;5;124m'\u001b[39m)\n\u001b[1;32m      9\u001b[0m )\n\u001b[1;32m     11\u001b[0m \u001b[38;5;66;03m# Step 2:\u001b[39;00m\n\u001b[1;32m     12\u001b[0m \u001b[38;5;66;03m# Create a dictionary containing original completion dates and cost associated with project \u001b[39;00m\n\u001b[1;32m     13\u001b[0m \u001b[38;5;66;03m# title + number of each contract \u001b[39;00m\n\u001b[1;32m     14\u001b[0m og_cost_dict \u001b[38;5;241m=\u001b[39m {}\n",
      "File \u001b[0;32m/usr/local/lib/python3.11/site-packages/pandas/core/frame.py:3761\u001b[0m, in \u001b[0;36mDataFrame.__getitem__\u001b[0;34m(self, key)\u001b[0m\n\u001b[1;32m   3759\u001b[0m \u001b[38;5;28;01mif\u001b[39;00m \u001b[38;5;28mself\u001b[39m\u001b[38;5;241m.\u001b[39mcolumns\u001b[38;5;241m.\u001b[39mnlevels \u001b[38;5;241m>\u001b[39m \u001b[38;5;241m1\u001b[39m:\n\u001b[1;32m   3760\u001b[0m     \u001b[38;5;28;01mreturn\u001b[39;00m \u001b[38;5;28mself\u001b[39m\u001b[38;5;241m.\u001b[39m_getitem_multilevel(key)\n\u001b[0;32m-> 3761\u001b[0m indexer \u001b[38;5;241m=\u001b[39m \u001b[38;5;28;43mself\u001b[39;49m\u001b[38;5;241;43m.\u001b[39;49m\u001b[43mcolumns\u001b[49m\u001b[38;5;241;43m.\u001b[39;49m\u001b[43mget_loc\u001b[49m\u001b[43m(\u001b[49m\u001b[43mkey\u001b[49m\u001b[43m)\u001b[49m\n\u001b[1;32m   3762\u001b[0m \u001b[38;5;28;01mif\u001b[39;00m is_integer(indexer):\n\u001b[1;32m   3763\u001b[0m     indexer \u001b[38;5;241m=\u001b[39m [indexer]\n",
      "File \u001b[0;32m/usr/local/lib/python3.11/site-packages/pandas/core/indexes/base.py:3654\u001b[0m, in \u001b[0;36mIndex.get_loc\u001b[0;34m(self, key)\u001b[0m\n\u001b[1;32m   3652\u001b[0m     \u001b[38;5;28;01mreturn\u001b[39;00m \u001b[38;5;28mself\u001b[39m\u001b[38;5;241m.\u001b[39m_engine\u001b[38;5;241m.\u001b[39mget_loc(casted_key)\n\u001b[1;32m   3653\u001b[0m \u001b[38;5;28;01mexcept\u001b[39;00m \u001b[38;5;167;01mKeyError\u001b[39;00m \u001b[38;5;28;01mas\u001b[39;00m err:\n\u001b[0;32m-> 3654\u001b[0m     \u001b[38;5;28;01mraise\u001b[39;00m \u001b[38;5;167;01mKeyError\u001b[39;00m(key) \u001b[38;5;28;01mfrom\u001b[39;00m \u001b[38;5;21;01merr\u001b[39;00m\n\u001b[1;32m   3655\u001b[0m \u001b[38;5;28;01mexcept\u001b[39;00m \u001b[38;5;167;01mTypeError\u001b[39;00m:\n\u001b[1;32m   3656\u001b[0m     \u001b[38;5;66;03m# If we have a listlike key, _check_indexing_error will raise\u001b[39;00m\n\u001b[1;32m   3657\u001b[0m     \u001b[38;5;66;03m#  InvalidIndexError. Otherwise we fall through and re-raise\u001b[39;00m\n\u001b[1;32m   3658\u001b[0m     \u001b[38;5;66;03m#  the TypeError.\u001b[39;00m\n\u001b[1;32m   3659\u001b[0m     \u001b[38;5;28mself\u001b[39m\u001b[38;5;241m.\u001b[39m_check_indexing_error(key)\n",
      "\u001b[0;31mKeyError\u001b[0m: 'combined_cost'"
     ]
    }
   ],
   "source": [
    "# Make the dictionaries\n",
    "# We want this format: { ProjectID_ProjectTitle_PctComplete : set(est_cost1, est_cost2) }\n",
    "# Values which are sets of length > 1 may indicate that the 'original' budget was updated\n",
    "\n",
    "# Step 1:\n",
    "# Format all cost data\n",
    "contracts_pct_complete['combined_cost'] = contracts_pct_complete['combined_cost'].apply(\n",
    "    lambda x: float(x) if x != '' else float('nan')\n",
    ")\n",
    "\n",
    "# Step 2:\n",
    "# Create a dictionary containing original completion dates and cost associated with project \n",
    "# title + number of each contract \n",
    "og_cost_dict = {}\n",
    "og_completion_dict = {}\n",
    "\n",
    "for i, row in contracts_pct_complete.iterrows():\n",
    "    \n",
    "    proj_num = row['combined_proj_nums']\n",
    "    proj_title = row['combined_titles']\n",
    "    \n",
    "    proj_code = f\"{proj_num}_{proj_title}\"\n",
    "    cost = row['combined_cost']\n",
    "    cost = formatCost(cost)\n",
    "    completion = row['combined_est_completions']\n",
    "    \n",
    "    if not pd.isnull(cost):\n",
    "        \n",
    "        og_cost_dict.setdefault(\n",
    "            proj_code, \n",
    "            set([cost])\n",
    "        )\n",
    "\n",
    "        og_completion_dict.setdefault(\n",
    "            proj_code, \n",
    "            set([completion])\n",
    "        )\n",
    "\n",
    "        og_cost_dict[proj_code].add(cost)\n",
    "        og_completion_dict[proj_code].add(completion)\n",
    "        \n",
    "# Step 3:\n",
    "# Examine instances wherein we have more than one cost associated with a given project \n",
    "# number/title combination\n",
    "for project, costs in og_cost_dict.items():\n",
    "    if len(costs) > 1:\n",
    "        print(project, costs)\n"
   ]
  },
  {
   "cell_type": "code",
   "execution_count": null,
   "id": "70c83045",
   "metadata": {
    "scrolled": true
   },
   "outputs": [],
   "source": [
    "# Now examine instances where there are multiple costs associated with a single contract\n",
    "numbers = []\n",
    "titles = []\n",
    "\n",
    "for title, costs in og_cost_dict.items():\n",
    "    if len(costs) > 1:\n",
    "        numbers.append(title.split('_')[0])\n",
    "        titles.append(title.split('_')[1])\n",
    "    \n",
    "contracts_pct_complete[\n",
    "    contracts_pct_complete['combined_proj_nums'].isin(numbers)\n",
    "    & contracts_pct_complete['combined_titles'].isin(titles)\n",
    "]"
   ]
  },
  {
   "cell_type": "code",
   "execution_count": null,
   "id": "eb67b106",
   "metadata": {},
   "outputs": [],
   "source": [
    "len(contracts_pct_complete)"
   ]
  },
  {
   "cell_type": "code",
   "execution_count": null,
   "id": "e7f85f41",
   "metadata": {},
   "outputs": [],
   "source": [
    "contracts_pct_complete[\n",
    "    contracts_pct_complete['combined_proj_nums'].isin(numbers)\n",
    "    & contracts_pct_complete['combined_titles'].isin(titles)\n",
    "].reset_index(drop=True).to_excel('../temp.xlsx')"
   ]
  },
  {
   "cell_type": "code",
   "execution_count": null,
   "id": "05c1211a",
   "metadata": {
    "scrolled": true
   },
   "outputs": [],
   "source": [
    "contracts_pct_complete[\n",
    "    contracts_pct_complete['combined_proj_nums'].str.contains(numbers[100])\n",
    "].to_excel('./temp3.xlsx')\n",
    "\n",
    "# contracts_pct_complete[\n",
    "#     contracts_pct_complete['combined_proj_nums'].str.contains(numbers[100])\n",
    "# ]['combined_pct_complete']"
   ]
  },
  {
   "cell_type": "markdown",
   "id": "bb50c8d9",
   "metadata": {},
   "source": [
    "Above is an example of datapoints which have the same project number and title, but varying estimated costs.\n",
    "\n",
    "Upon further inspection, some details of the data entries are different - for example, different contract recipients are named.\n",
    "\n",
    "So it looks as though there are some cases wherein *different* contracts will be entered into the database with the *same* title and project number.\n",
    "\n",
    "So, combinations of project numbers and project titles are not sufficient unique identifiers\n",
    "\n",
    "### *Action*\n",
    "- Use more variables as unique identifiers - ie, contract recipient, contract number and so on"
   ]
  },
  {
   "cell_type": "code",
   "execution_count": null,
   "id": "a21b1874",
   "metadata": {},
   "outputs": [],
   "source": [
    "# TODO:\n",
    "\n",
    "# - Round all estimated costs to nearest integer, otherwise we cannot match them because\n",
    "# some of them are rounded\n",
    "\n",
    "# Figure which estimated costs are recorded in thousands and multiply them to match the\n",
    "# other data\n",
    "\n",
    "# Multiply pct completes < 1 by 100 & round all values to nearest second decimanl place\n",
    "\n",
    "# Does pct complete refer to the overall project, or just the contract ?????? "
   ]
  },
  {
   "cell_type": "code",
   "execution_count": null,
   "id": "9d0cd440",
   "metadata": {},
   "outputs": [],
   "source": []
  },
  {
   "cell_type": "code",
   "execution_count": null,
   "id": "78a7c373",
   "metadata": {},
   "outputs": [],
   "source": []
  },
  {
   "cell_type": "code",
   "execution_count": null,
   "id": "734707a5",
   "metadata": {},
   "outputs": [],
   "source": []
  },
  {
   "cell_type": "code",
   "execution_count": null,
   "id": "b1317d62",
   "metadata": {},
   "outputs": [],
   "source": [
    "# What is the maximum number of days between a submission date and a data as of date?\n",
    "\n",
    "contracts_pct_complete['']"
   ]
  },
  {
   "cell_type": "code",
   "execution_count": null,
   "id": "9df19212",
   "metadata": {},
   "outputs": [],
   "source": [
    "# What is the average number of days between them ?"
   ]
  },
  {
   "cell_type": "code",
   "execution_count": null,
   "id": "fd55aaac",
   "metadata": {},
   "outputs": [],
   "source": [
    "# Is this ever negative ?"
   ]
  },
  {
   "cell_type": "code",
   "execution_count": null,
   "id": "19f1defd",
   "metadata": {},
   "outputs": [],
   "source": [
    "# See if the start dates are always > the award dates"
   ]
  },
  {
   "cell_type": "code",
   "execution_count": null,
   "id": "8f0a17bd",
   "metadata": {},
   "outputs": [],
   "source": [
    "# See what the average difference is between a start date and an award date"
   ]
  },
  {
   "cell_type": "code",
   "execution_count": null,
   "id": "c44e3830",
   "metadata": {},
   "outputs": [],
   "source": [
    "# See if the start dates change between project updates"
   ]
  },
  {
   "cell_type": "code",
   "execution_count": null,
   "id": "b99f1a1f",
   "metadata": {},
   "outputs": [],
   "source": []
  },
  {
   "cell_type": "code",
   "execution_count": null,
   "id": "354c6734",
   "metadata": {},
   "outputs": [],
   "source": []
  },
  {
   "cell_type": "code",
   "execution_count": null,
   "id": "f502f738",
   "metadata": {},
   "outputs": [],
   "source": []
  },
  {
   "cell_type": "code",
   "execution_count": null,
   "id": "8e97ffdb",
   "metadata": {},
   "outputs": [],
   "source": [
    "# How often are the data as of date values past the current completion date ?"
   ]
  },
  {
   "cell_type": "code",
   "execution_count": null,
   "id": "8e7f3b26",
   "metadata": {},
   "outputs": [],
   "source": [
    "# In what percentage of these cases is the pct complete == 1 ?"
   ]
  },
  {
   "cell_type": "code",
   "execution_count": null,
   "id": "fc8c7f68",
   "metadata": {},
   "outputs": [],
   "source": []
  },
  {
   "cell_type": "code",
   "execution_count": null,
   "id": "cf859c1a",
   "metadata": {},
   "outputs": [],
   "source": [
    "# How often do the \n",
    "# pct complete values == (current_completion - start_date) / (data_as_of_date - start_date)\n",
    "# for project < 100% pct complete?"
   ]
  },
  {
   "cell_type": "code",
   "execution_count": null,
   "id": "1593fd97",
   "metadata": {},
   "outputs": [],
   "source": []
  },
  {
   "cell_type": "code",
   "execution_count": null,
   "id": "1ebaf4cb",
   "metadata": {},
   "outputs": [],
   "source": [
    "# See if any occupency dates < current completion date"
   ]
  },
  {
   "cell_type": "code",
   "execution_count": null,
   "id": "8a42d7f4",
   "metadata": {},
   "outputs": [],
   "source": [
    "# See if the occupency dates change throughout project updates (or if it exists before pct\n",
    "# complete == 1)"
   ]
  },
  {
   "cell_type": "code",
   "execution_count": null,
   "id": "f96c690d",
   "metadata": {},
   "outputs": [],
   "source": []
  },
  {
   "cell_type": "code",
   "execution_count": null,
   "id": "571c6951",
   "metadata": {},
   "outputs": [],
   "source": []
  },
  {
   "cell_type": "code",
   "execution_count": null,
   "id": "70a79380",
   "metadata": {},
   "outputs": [],
   "source": []
  },
  {
   "cell_type": "code",
   "execution_count": null,
   "id": "aac65903",
   "metadata": {},
   "outputs": [],
   "source": [
    "# Value counts for data entries if we keep only one estimated cost\n"
   ]
  },
  {
   "cell_type": "code",
   "execution_count": null,
   "id": "ebb33d6b",
   "metadata": {},
   "outputs": [],
   "source": []
  },
  {
   "cell_type": "code",
   "execution_count": null,
   "id": "6ac03032",
   "metadata": {},
   "outputs": [],
   "source": [
    "contracts_pct_complete[\n",
    "    contracts_pct_complete['combined_pct_complete'] < 0.01\n",
    "].sort_values(by=\"combined_pct_complete\", ascending=False).to_excel('./temp2.xlsx')"
   ]
  },
  {
   "cell_type": "code",
   "execution_count": null,
   "id": "9bf881c8",
   "metadata": {},
   "outputs": [],
   "source": []
  },
  {
   "cell_type": "code",
   "execution_count": null,
   "id": "29355e06",
   "metadata": {},
   "outputs": [],
   "source": []
  },
  {
   "cell_type": "markdown",
   "id": "66874c5b",
   "metadata": {},
   "source": [
    "## TODO: Repeat cost_dictionary process, but using more unique identifiers\n",
    "\n",
    "So, keys in the dict will have the format of:\n",
    "    `number_title_recipient_contractnumber_solicitationdate_awarddate_startdate_statecountry`\n",
    "    \n",
    "    \n",
    "We therefore need to combine the following pieces of information into single columns:\n",
    "- contract recipient\n",
    "- prime contract number\n",
    "- solicitation date\n",
    "- award date\n",
    "- start date\n",
    "- state country code (NY=New York or GBR=Great Britain)"
   ]
  }
 ],
 "metadata": {
  "kernelspec": {
   "display_name": "Python 3 (ipykernel)",
   "language": "python",
   "name": "python3"
  },
  "language_info": {
   "codemirror_mode": {
    "name": "ipython",
    "version": 3
   },
   "file_extension": ".py",
   "mimetype": "text/x-python",
   "name": "python",
   "nbconvert_exporter": "python",
   "pygments_lexer": "ipython3",
   "version": "3.11.4"
  }
 },
 "nbformat": 4,
 "nbformat_minor": 5
}
